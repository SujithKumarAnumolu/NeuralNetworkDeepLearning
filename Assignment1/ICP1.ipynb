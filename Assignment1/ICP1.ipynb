{
  "nbformat": 4,
  "nbformat_minor": 0,
  "metadata": {
    "colab": {
      "provenance": []
    },
    "kernelspec": {
      "name": "python3",
      "display_name": "Python 3"
    },
    "language_info": {
      "name": "python"
    }
  },
  "cells": [
    {
      "cell_type": "code",
      "execution_count": null,
      "metadata": {
        "id": "y1owLsQ0FDbU",
        "colab": {
          "base_uri": "https://localhost:8080/"
        },
        "outputId": "cdab4a0a-56e3-46c0-e1f8-3aee941d8f8a"
      },
      "outputs": [
        {
          "output_type": "stream",
          "name": "stdout",
          "text": [
            "Enter a string: python\n",
            "Reversed string is: noyp\n"
          ]
        }
      ],
      "source": [
        "P = input(\"Enter a string: \")\n",
        "if len(P) < 2:\n",
        "    print(\"Input string must have at least 2 characters.\")\n",
        "else:\n",
        "    mid_index = len(P) // 2\n",
        "    if len(P) % 2 == 0:\n",
        "      modified = P[:mid_index-1] + P[mid_index+1:] #if Len is even\n",
        "    else:\n",
        "      modified = P[:mid_index] + P[mid_index+1:] #if Len is odd\n",
        "\n",
        "    reversed_string = modified[::-1]\n",
        "\n",
        "    print(\"Reversed string is:\",reversed_string)"
      ]
    },
    {
      "cell_type": "code",
      "source": [
        "X = float(input(\"Enter first number: \"))\n",
        "Y = float(input(\"Enter second number: \"))\n",
        "print(\"Addition:\", X+Y)\n",
        "print(\"Subtraction:\", X-Y)\n",
        "print(\"Division:\", X/Y)\n",
        "print('Modulus: ', X % Y)"
      ],
      "metadata": {
        "colab": {
          "base_uri": "https://localhost:8080/"
        },
        "id": "yejbfZ05Hrfj",
        "outputId": "bdb0fdc5-f241-48ee-bc42-ad226c579c36"
      },
      "execution_count": null,
      "outputs": [
        {
          "output_type": "stream",
          "name": "stdout",
          "text": [
            "Enter first number: 3\n",
            "Enter second number: 4\n",
            "Addition: 7.0\n",
            "Subtraction: -1.0\n",
            "Division: 0.75\n",
            "Modulus:  3.0\n"
          ]
        }
      ]
    },
    {
      "cell_type": "code",
      "source": [
        "input_sentence = input(\"Enter a input sentence: \")\n",
        "\n",
        "modified_sentence = input_sentence.replace('python', 'pythons')\n",
        "\n",
        "print(\"Modified sentence:\", modified_sentence)"
      ],
      "metadata": {
        "colab": {
          "base_uri": "https://localhost:8080/"
        },
        "id": "ziOdqFk8J5_9",
        "outputId": "4551ff62-bdac-466b-a1f2-823ba872bee2"
      },
      "execution_count": null,
      "outputs": [
        {
          "output_type": "stream",
          "name": "stdout",
          "text": [
            "Enter a input sentence: i love python\n",
            "Modified sentence: i love pythons\n"
          ]
        }
      ]
    },
    {
      "cell_type": "code",
      "source": [
        "score = int(input(\"Enter class score\"))\n",
        "if(score>=90):\n",
        "  print(\"Grade: A\")\n",
        "elif(score>=80 and score<90):\n",
        "  print(\"Grade: B\")\n",
        "elif(score>=70 and score<80):\n",
        "  print(\"Grade: C\")\n",
        "elif(score>=60 and score<70):\n",
        "  print(\"Grade: D\")\n",
        "else:\n",
        "  print(\"F\")"
      ],
      "metadata": {
        "colab": {
          "base_uri": "https://localhost:8080/"
        },
        "id": "J4QJqSa0Wfhn",
        "outputId": "61da1e50-86cb-4812-9a91-982476db2e3c"
      },
      "execution_count": null,
      "outputs": [
        {
          "output_type": "stream",
          "name": "stdout",
          "text": [
            "Enter class score75\n",
            "Grade: C\n"
          ]
        }
      ]
    }
  ]
}