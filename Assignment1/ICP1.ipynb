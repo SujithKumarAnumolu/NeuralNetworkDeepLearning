{
  "nbformat": 4,
  "nbformat_minor": 0,
  "metadata": {
    "colab": {
      "provenance": []
    },
    "kernelspec": {
      "name": "python3",
      "display_name": "Python 3"
    },
    "language_info": {
      "name": "python"
    }
  },
  "cells": [
    {
      "cell_type": "code",
      "execution_count": null,
      "metadata": {
        "id": "y1owLsQ0FDbU",
        "colab": {
          "base_uri": "https://localhost:8080/"
        },
        "outputId": "3252a895-d12e-41bd-ff51-e23c8247c534"
      },
      "outputs": [
        {
          "output_type": "stream",
          "name": "stdout",
          "text": [
            "Enter a string: Python\n",
            "Reversed string is: noyP\n"
          ]
        }
      ],
      "source": [
        "P = input(\"Enter a string: \")\n",
        "if len(P) < 2:\n",
        "    print(\"Input string must have at least 2 characters.\")\n",
        "else:\n",
        "    mid_index = len(P) // 2\n",
        "    if len(P) % 2 == 0:\n",
        "      modified = P[:mid_index-1] + P[mid_index+1:] #if Len is even\n",
        "    else:\n",
        "      modified = P[:mid_index] + P[mid_index+1:] #if Len is odd\n",
        "\n",
        "    reversed_string = modified[::-1]\n",
        "\n",
        "    print(\"Reversed string is:\",reversed_string)"
      ]
    },
    {
      "cell_type": "code",
      "source": [
        "X = float(input(\"Enter first number: \"))\n",
        "Y = float(input(\"Enter second number: \"))\n",
        "print(\"Addition:\", X+Y)\n",
        "print(\"Subtraction:\", X-Y)\n",
        "print(\"Multiplication:\", X*Y)\n",
        "print(\"Division:\", X/Y)"
      ],
      "metadata": {
        "colab": {
          "base_uri": "https://localhost:8080/"
        },
        "id": "yejbfZ05Hrfj",
        "outputId": "5c1e963a-8e99-4fb0-8a70-59626c4e6de7"
      },
      "execution_count": null,
      "outputs": [
        {
          "output_type": "stream",
          "name": "stdout",
          "text": [
            "Enter first number: 6\n",
            "Enter second number: 4\n",
            "Addition: 10.0\n",
            "Subtraction: 2.0\n",
            "Multiplication: 24.0\n",
            "Division: 1.5\n"
          ]
        }
      ]
    },
    {
      "cell_type": "code",
      "source": [
        "input_sentence = input(\"Enter a input sentence: \")\n",
        "\n",
        "modified_sentence = input_sentence.replace('python', 'pythons')\n",
        "\n",
        "print(\"Modified sentence:\", modified_sentence)"
      ],
      "metadata": {
        "colab": {
          "base_uri": "https://localhost:8080/"
        },
        "id": "ziOdqFk8J5_9",
        "outputId": "4cc4a167-9634-4aec-d88f-d3ec68d2678c"
      },
      "execution_count": null,
      "outputs": [
        {
          "output_type": "stream",
          "name": "stdout",
          "text": [
            "Enter a input sentence:  I love playing with python\n",
            "Modified sentence:  I love playing with pythons\n"
          ]
        }
      ]
    },
    {
      "cell_type": "code",
      "source": [
        "score = int(input(\"Enter class score : \"))\n",
        "if(score>=90 and score<=100):\n",
        "  print(\"Grade: A\")\n",
        "elif(score>=80 and score<90):\n",
        "  print(\"Grade: B\")\n",
        "elif(score>=70 and score<80):\n",
        "  print(\"Grade: C\")\n",
        "elif(score>=60 and score<70):\n",
        "  print(\"Grade: D\")\n",
        "elif(score<60):\n",
        "  print(\"F\")\n",
        "else:\n",
        "  print(\"Please enter a valid score\")"
      ],
      "metadata": {
        "colab": {
          "base_uri": "https://localhost:8080/"
        },
        "id": "J4QJqSa0Wfhn",
        "outputId": "fd500495-de09-48a4-d637-eb285b02764d"
      },
      "execution_count": null,
      "outputs": [
        {
          "output_type": "stream",
          "name": "stdout",
          "text": [
            "Enter class score : 110\n",
            "Please enter a valid score\n"
          ]
        }
      ]
    }
  ]
}