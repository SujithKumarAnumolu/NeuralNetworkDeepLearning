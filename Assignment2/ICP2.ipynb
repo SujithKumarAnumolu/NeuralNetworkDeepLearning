{
  "nbformat": 4,
  "nbformat_minor": 0,
  "metadata": {
    "colab": {
      "provenance": []
    },
    "kernelspec": {
      "name": "python3",
      "display_name": "Python 3"
    },
    "language_info": {
      "name": "python"
    }
  },
  "cells": [
    {
      "cell_type": "code",
      "execution_count": null,
      "metadata": {
        "colab": {
          "base_uri": "https://localhost:8080/"
        },
        "id": "GTiAv_DcMjjZ",
        "outputId": "4187f4f1-e14d-4db2-98b8-c2ea59825e70"
      },
      "outputs": [
        {
          "output_type": "stream",
          "name": "stdout",
          "text": [
            "Enter your first name: SUJITH\n",
            "Enter your last name: ANUMOLU\n",
            "Full Name: SUJITH ANUMOLU\n",
            "Output: SJT NML\n"
          ]
        }
      ],
      "source": [
        "def fullname(first_name, last_name):\n",
        "    full_name = first_name + \" \" + last_name\n",
        "    return full_name\n",
        "\n",
        "def string_alternative(input_str):\n",
        "    return input_str[::2]\n",
        "\n",
        "def main():\n",
        "    # Get user input\n",
        "    first_name = input(\"Enter your first name: \")\n",
        "    last_name = input(\"Enter your last name: \")\n",
        "\n",
        "    # Call the fullname function\n",
        "    full_name = fullname(first_name, last_name)\n",
        "\n",
        "    # Call the string_alternative function\n",
        "    result = string_alternative(full_name)\n",
        "\n",
        "    # Display the result\n",
        "    print(\"Full Name:\", full_name)\n",
        "    print(\"Output:\", result)\n",
        "\n",
        "# Call the main function\n",
        "if __name__ == \"__main__\":\n",
        "    main()"
      ]
    },
    {
      "cell_type": "code",
      "source": [
        "def frequencyOfWords(sentence):\n",
        "    wordStore = {}\n",
        "    words = sentence.split()\n",
        "\n",
        "    for i in words:\n",
        "        wordStore[i] = wordStore.get(i, 0) + 1\n",
        "\n",
        "    # returning the frequency of words stored in wordStore\n",
        "    return wordStore\n",
        "\n",
        "def file_processing(input_file_path, output_file_path):\n",
        "    with open(input_file_path, 'r') as infile, open(output_file_path, 'w') as outfile:\n",
        "        # Read all lines from the input file and concatenate them into a single string\n",
        "        sentences = ' '.join(line.strip() for line in infile)\n",
        "\n",
        "        # for calculating the word count:\n",
        "        wordStore = frequencyOfWords(sentences)\n",
        "\n",
        "        # writing the original sentence in output file:\n",
        "        outfile.write(\"Input sentence is: \" + sentences + \"\\n\" + \"\\n\")\n",
        "        outfile.write(\"Frequency of words:\" + \"\\n\" + \"\\n\")\n",
        "\n",
        "        # writing the word count for each word\n",
        "        for word, count in wordStore.items():\n",
        "            outfile.write(f\"{word}: {count}\" + \"\\n\")\n",
        "\n",
        "        outfile.write(\"\\n\")\n",
        "\n",
        "# Create a sample input file\n",
        "with open('input.txt', 'w') as f:\n",
        "    f.write('Python Course. Deep Learning Course.')\n",
        "\n",
        "# Starts the file processing for finding the frequency of words\n",
        "file_processing('input.txt', 'output.txt')\n",
        "\n",
        "# List the files in the current directory\n",
        "import os\n",
        "#print(os.listdir())\n",
        "\n",
        "# Read and print the output file\n",
        "with open('output.txt', 'r') as f:\n",
        "    print(f.read())\n",
        "\n",
        "# Download the input file and output file to local machine\n",
        "from google.colab import files\n",
        "files.download('input.txt')\n",
        "files.download('output.txt')"
      ],
      "metadata": {
        "colab": {
          "base_uri": "https://localhost:8080/",
          "height": 200
        },
        "id": "o4XYVyrvNjVv",
        "outputId": "c3cc1ab8-9d9c-4b88-d580-eaca12209b8b"
      },
      "execution_count": 40,
      "outputs": [
        {
          "output_type": "stream",
          "name": "stdout",
          "text": [
            "Input sentence is: Python Course. Deep Learning Course.\n",
            "\n",
            "Frequency of words:\n",
            "\n",
            "Python: 1\n",
            "Course.: 2\n",
            "Deep: 1\n",
            "Learning: 1\n",
            "\n",
            "\n"
          ]
        },
        {
          "output_type": "display_data",
          "data": {
            "text/plain": [
              "<IPython.core.display.Javascript object>"
            ],
            "application/javascript": [
              "\n",
              "    async function download(id, filename, size) {\n",
              "      if (!google.colab.kernel.accessAllowed) {\n",
              "        return;\n",
              "      }\n",
              "      const div = document.createElement('div');\n",
              "      const label = document.createElement('label');\n",
              "      label.textContent = `Downloading \"${filename}\": `;\n",
              "      div.appendChild(label);\n",
              "      const progress = document.createElement('progress');\n",
              "      progress.max = size;\n",
              "      div.appendChild(progress);\n",
              "      document.body.appendChild(div);\n",
              "\n",
              "      const buffers = [];\n",
              "      let downloaded = 0;\n",
              "\n",
              "      const channel = await google.colab.kernel.comms.open(id);\n",
              "      // Send a message to notify the kernel that we're ready.\n",
              "      channel.send({})\n",
              "\n",
              "      for await (const message of channel.messages) {\n",
              "        // Send a message to notify the kernel that we're ready.\n",
              "        channel.send({})\n",
              "        if (message.buffers) {\n",
              "          for (const buffer of message.buffers) {\n",
              "            buffers.push(buffer);\n",
              "            downloaded += buffer.byteLength;\n",
              "            progress.value = downloaded;\n",
              "          }\n",
              "        }\n",
              "      }\n",
              "      const blob = new Blob(buffers, {type: 'application/binary'});\n",
              "      const a = document.createElement('a');\n",
              "      a.href = window.URL.createObjectURL(blob);\n",
              "      a.download = filename;\n",
              "      div.appendChild(a);\n",
              "      a.click();\n",
              "      div.remove();\n",
              "    }\n",
              "  "
            ]
          },
          "metadata": {}
        },
        {
          "output_type": "display_data",
          "data": {
            "text/plain": [
              "<IPython.core.display.Javascript object>"
            ],
            "application/javascript": [
              "download(\"download_6c8d337b-5bca-4cfa-8790-310ab95e33ef\", \"input.txt\", 36)"
            ]
          },
          "metadata": {}
        },
        {
          "output_type": "display_data",
          "data": {
            "text/plain": [
              "<IPython.core.display.Javascript object>"
            ],
            "application/javascript": [
              "\n",
              "    async function download(id, filename, size) {\n",
              "      if (!google.colab.kernel.accessAllowed) {\n",
              "        return;\n",
              "      }\n",
              "      const div = document.createElement('div');\n",
              "      const label = document.createElement('label');\n",
              "      label.textContent = `Downloading \"${filename}\": `;\n",
              "      div.appendChild(label);\n",
              "      const progress = document.createElement('progress');\n",
              "      progress.max = size;\n",
              "      div.appendChild(progress);\n",
              "      document.body.appendChild(div);\n",
              "\n",
              "      const buffers = [];\n",
              "      let downloaded = 0;\n",
              "\n",
              "      const channel = await google.colab.kernel.comms.open(id);\n",
              "      // Send a message to notify the kernel that we're ready.\n",
              "      channel.send({})\n",
              "\n",
              "      for await (const message of channel.messages) {\n",
              "        // Send a message to notify the kernel that we're ready.\n",
              "        channel.send({})\n",
              "        if (message.buffers) {\n",
              "          for (const buffer of message.buffers) {\n",
              "            buffers.push(buffer);\n",
              "            downloaded += buffer.byteLength;\n",
              "            progress.value = downloaded;\n",
              "          }\n",
              "        }\n",
              "      }\n",
              "      const blob = new Blob(buffers, {type: 'application/binary'});\n",
              "      const a = document.createElement('a');\n",
              "      a.href = window.URL.createObjectURL(blob);\n",
              "      a.download = filename;\n",
              "      div.appendChild(a);\n",
              "      a.click();\n",
              "      div.remove();\n",
              "    }\n",
              "  "
            ]
          },
          "metadata": {}
        },
        {
          "output_type": "display_data",
          "data": {
            "text/plain": [
              "<IPython.core.display.Javascript object>"
            ],
            "application/javascript": [
              "download(\"download_14503c1e-1398-47c0-a3ff-756c057ddfc1\", \"output.txt\", 120)"
            ]
          },
          "metadata": {}
        }
      ]
    },
    {
      "cell_type": "code",
      "source": [
        "#Question 3\n",
        "def getHeightUsingLoop(heights_inches):\n",
        "    heights_centimeters = []\n",
        "    for height in heights_inches:\n",
        "        centimeters = height * 2.54\n",
        "        heights_centimeters.append(round(centimeters, 2))\n",
        "    return heights_centimeters\n",
        "\n",
        "def main():\n",
        "    # Input heights in inches from the user.\n",
        "    heights_inches = list(map(float, input(\"Enter the list numbers separated by comma: \").strip().split(\",\")))\n",
        "    print(\"Input List in Inches: \", heights_inches)\n",
        "\n",
        "    # Interactive loop for converting height into centimeters.\n",
        "    heights_cm_nested = getHeightUsingLoop(heights_inches)\n",
        "\n",
        "    # List comprehension for converting height into centimeters.\n",
        "    heights_cm_comprehension= [round(height * 2.54, 2) for height in heights_inches]\n",
        "\n",
        "    # Printing the results.\n",
        "    print(\"Heights using Nested Loop:\", heights_cm_nested)\n",
        "    print(\"Heights using List Comprehension:\", heights_cm_comprehension)\n",
        "\n",
        "if __name__ == \"__main__\":\n",
        "    main()"
      ],
      "metadata": {
        "colab": {
          "base_uri": "https://localhost:8080/"
        },
        "id": "Xawzre6RRRNa",
        "outputId": "f23bd9d5-3f14-4d6f-f752-c0688ac861df"
      },
      "execution_count": 8,
      "outputs": [
        {
          "output_type": "stream",
          "name": "stdout",
          "text": [
            "Enter the list numbers separated by comma: 150,155, 145, 148\n",
            "Input List in Inches:  [150.0, 155.0, 145.0, 148.0]\n",
            "Heights using Nested Loop: [381.0, 393.7, 368.3, 375.92]\n",
            "Heights using List Comprehension: [381.0, 393.7, 368.3, 375.92]\n"
          ]
        }
      ]
    }
  ]
}